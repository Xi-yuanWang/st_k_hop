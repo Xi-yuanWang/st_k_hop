{
 "metadata": {
  "language_info": {
   "codemirror_mode": {
    "name": "ipython",
    "version": 3
   },
   "file_extension": ".py",
   "mimetype": "text/x-python",
   "name": "python",
   "nbconvert_exporter": "python",
   "pygments_lexer": "ipython3",
   "version": "3.8.6-final"
  },
  "orig_nbformat": 2,
  "kernelspec": {
   "name": "python38664bittorchgeoconda6f756dd914a64c5bbfcc12322cd6a319",
   "display_name": "Python 3.8.6 64-bit ('torch_geo': conda)",
   "language": "python"
  }
 },
 "nbformat": 4,
 "nbformat_minor": 2,
 "cells": [
  {
   "cell_type": "code",
   "execution_count": 15,
   "metadata": {},
   "outputs": [],
   "source": [
    "import networkx as nx\n",
    "import numpy as np\n",
    "import time"
   ]
  },
  {
   "cell_type": "code",
   "execution_count": 2,
   "metadata": {},
   "outputs": [],
   "source": [
    "G=nx.DiGraph()\n",
    "G.add_nodes_from([i for i in range(20)])\n",
    "G.add_edges_from([(i,j) for i in range(20) for j in list(range(0,i,2))+list(range(i+1,20,2))])\n",
    "Gr=G.reverse()"
   ]
  },
  {
   "source": [
    "baseline:\n",
    "\n",
    "* C-DFS\n",
    "\n",
    "* BC-DFS"
   ],
   "cell_type": "markdown",
   "metadata": {}
  },
  {
   "cell_type": "code",
   "execution_count": 3,
   "metadata": {},
   "outputs": [],
   "source": [
    "def C_DFS(G,s,t,k,ans,path=[]):\n",
    "    INF=1e5\n",
    "    if s==t:\n",
    "        return 0\n",
    "    if k<=0:\n",
    "        return INF\n",
    "    ret=INF\n",
    "    path.append(s)\n",
    "    for next in G[s]:\n",
    "        if next not in path:\n",
    "            tmp=C_DFS(G,next,t,k-1,ans,path)\n",
    "            if tmp<INF-5:\n",
    "                ans.append((s,next))\n",
    "            ret=min(ret,tmp+1)\n",
    "    path.pop()\n",
    "    return ret"
   ]
  },
  {
   "cell_type": "code",
   "execution_count": 65,
   "metadata": {},
   "outputs": [],
   "source": [
    "def BC_DFS(G,Gr,s,t,k,ans):\n",
    "    def BC_DFS_recursive(G,Gr,s,t,k,ans,S,bar):\n",
    "        def UpdateBar(Gr,u,b,bar):\n",
    "            if bar[u]>b:\n",
    "                bar[u]=b\n",
    "                for prev in Gr[b]:\n",
    "                    UpdateBar(Gr,prev,b+1,bar)\n",
    "\n",
    "        F=k+1\n",
    "        if s==t:\n",
    "            return 0\n",
    "        S.append(s)\n",
    "        if len(S)<=k:\n",
    "            for next in G[s]:\n",
    "                if next not in S:\n",
    "                    if len(S)+bar[next]<=k:\n",
    "                        f=BC_DFS_recursive(G,Gr,next,t,k,ans,S,bar)\n",
    "                        if f<k+1:\n",
    "                            ans.append((s,next))\n",
    "                            F=min(f+1,F)\n",
    "        if F==k+1:\n",
    "            bar[s]=k+1-(len(S)-1)\n",
    "        else:\n",
    "            UpdateBar(Gr,s,F,bar)\n",
    "        S.pop()\n",
    "        return F\n",
    "\n",
    "    S=[]\n",
    "    bar=[0 for i in range(len(G))]\n",
    "    return BC_DFS_recursive(G,Gr,s,t,k,ans,S,bar)"
   ]
  },
  {
   "source": [
    "bisearch"
   ],
   "cell_type": "markdown",
   "metadata": {}
  },
  {
   "cell_type": "code",
   "execution_count": 23,
   "metadata": {},
   "outputs": [],
   "source": [
    "def backProp(Gr,ls,lt,k,v,ans):\n",
    "    for prev in Gr[v]:\n",
    "        if prev in Gr:\n",
    "            if lt[prev]>lt[v]+1:\n",
    "                if lt[prev]+ls[prev]>k and ls[prev]+lt[v]+1<=k:\n",
    "                    ans.append(prev)\n",
    "                lt[prev]=lt[v]+1\n",
    "                if lt[prev]+ls[prev]<=k:\n",
    "                    backProp(Gr,ls,lt,k,prev,ans)\n",
    "\n",
    "def bisearch(G,Gr,s,t,k,ans):\n",
    "    ls=[k+1 for i in range(len(G))]\n",
    "    lt=[k+1 for i in range(len(G))]\n",
    "    ls[s]=0\n",
    "    lt[t]=0\n",
    "    qs=[s]\n",
    "    qt=[t]\n",
    "    subGs=[s]\n",
    "    subGt=[t]\n",
    "\n",
    "    for i in range(k):\n",
    "        if len(qs)<len(qt) and len(qs)>0:\n",
    "            tqs=[]\n",
    "            for i in qs:\n",
    "                for next in G[i]:\n",
    "                    if ls[next]>ls[i]+1:\n",
    "                        tqs.append(next)\n",
    "                        subGs.append(next)\n",
    "                        if (ls[next]+lt[next])>k and (ls[i]+1+lt[next])<=k:\n",
    "                            ans.append(next)\n",
    "                        ls[next]=ls[i]+1\n",
    "                        if(lt[next]+ls[next])<=k:\n",
    "                            backProp(Gr.subgraph(subGs),ls,lt,k,next,ans)\n",
    "                            backProp(G.subgraph(subGt),lt,ls,k,next,ans)\n",
    "            qs=tqs\n",
    "        else:\n",
    "            tqt=[]\n",
    "            for i in qt:\n",
    "                for prev in Gr[i]:\n",
    "                    if lt[prev]>lt[i]+1:\n",
    "                        tqt.append(prev)\n",
    "                        subGt.append(prev)\n",
    "                        if (ls[prev]+lt[prev])>k and (lt[i]+1+ls[prev])<=k:\n",
    "                            ans.append(prev)\n",
    "                        lt[prev]=lt[i]+1\n",
    "                        if (lt[prev]+ls[prev])<=k:\n",
    "                            backProp(Gr.subgraph(subGs),ls,lt,k,prev,ans)\n",
    "                            backProp(G.subgraph(subGt),lt,ls,k,prev,ans)\n",
    "            qt=tqt\n",
    "    return ls,lt"
   ]
  },
  {
   "source": [
    "revised\n",
    "\n",
    "只在两个未完成的圈内反向传播是有问题的"
   ],
   "cell_type": "markdown",
   "metadata": {}
  },
  {
   "cell_type": "code",
   "execution_count": 24,
   "metadata": {},
   "outputs": [],
   "source": [
    "def bisearch_N(G,Gr,s,t,k,ans):\n",
    "    def backProp_N(Gr,ls,lt,k,v,ans):\n",
    "        for prev in Gr[v]:\n",
    "            if lt[prev]>lt[v]+1 and ls[prev]+lt[v]+1<=k:\n",
    "                if lt[prev]+ls[prev]>k:\n",
    "                    ans.append(prev)\n",
    "                lt[prev]=lt[v]+1\n",
    "                backProp_N(Gr,ls,lt,k,prev,ans)\n",
    "        \n",
    "    ls=[k+1 for i in range(len(G))]\n",
    "    lt=[k+1 for i in range(len(G))]\n",
    "    ls[s]=0\n",
    "    lt[t]=0\n",
    "    qs=[s]\n",
    "    qt=[t]\n",
    "\n",
    "    for i in range(k):\n",
    "        if len(qs)<len(qt) and len(qs)>0:\n",
    "            tqs=[]\n",
    "            for i in qs:\n",
    "                for next in G[i]:\n",
    "                    if ls[next]>ls[i]+1:\n",
    "                        tqs.append(next)\n",
    "                        if (ls[next]+lt[next])>k and (ls[i]+1+lt[next])<=k:\n",
    "                            ans.append(next)\n",
    "                        ls[next]=ls[i]+1\n",
    "                        if(lt[next]+ls[next])<=k:\n",
    "                            backProp_N(Gr,ls,lt,k,next,ans)\n",
    "                            backProp_N(G,lt,ls,k,next,ans)\n",
    "            qs=tqs\n",
    "        else:\n",
    "            tqt=[]\n",
    "            for i in qt:\n",
    "                for prev in Gr[i]:\n",
    "                    if lt[prev]>lt[i]+1:\n",
    "                        tqt.append(prev)\n",
    "                        if (ls[prev]+lt[prev])>k and (lt[i]+1+ls[prev])<=k:\n",
    "                            ans.append(prev)\n",
    "                        lt[prev]=lt[i]+1\n",
    "                        if (lt[prev]+ls[prev])<=k:\n",
    "                            backProp_N(Gr,ls,lt,k,prev,ans)\n",
    "                            backProp_N(G,lt,ls,k,prev,ans)\n",
    "            qt=tqt\n",
    "    return ls,lt"
   ]
  },
  {
   "source": [
    "先产生两个子图再判定交集。则所有s-t k-hop路径都经过这一点集\n",
    "\n",
    "直接找边??"
   ],
   "cell_type": "markdown",
   "metadata": {}
  },
  {
   "cell_type": "code",
   "execution_count": 71,
   "metadata": {},
   "outputs": [],
   "source": [
    "def bisearch_S(G,Gr,s,t,k,ans):\n",
    "    def backProp_S(Gr,ls,lt,k,v,ans):\n",
    "        for prev in Gr[v]:\n",
    "            if lt[prev]>lt[v]+1 and ls[prev]+lt[v]+1<=k:\n",
    "                if lt[prev]+ls[prev]>k:\n",
    "                    ans.append(prev)\n",
    "                lt[prev]=lt[v]+1\n",
    "                backProp_S(Gr,ls,lt,k,prev,ans)\n",
    "\n",
    "    ls=[k+1 for i in range(len(G))]\n",
    "    lt=[k+1 for i in range(len(G))]\n",
    "    ls[s]=0\n",
    "    lt[t]=0\n",
    "    qs=[s]\n",
    "    qt=[t]\n",
    "    critical_node=[]\n",
    "\n",
    "    for i in range(k):\n",
    "        if len(qs)<len(qt):\n",
    "            tqs=[]\n",
    "            for i in qs:\n",
    "                for next in G[i]:\n",
    "                    if ls[next]>k:\n",
    "                        tqs.append(next)\n",
    "                        ls[next]=ls[i]+1\n",
    "                        if (ls[next]+lt[next])<=k:\n",
    "                            critical_node.append(next)\n",
    "            qs=tqs\n",
    "        else:\n",
    "            tqt=[]\n",
    "            for i in qt:\n",
    "                for prev in Gr[i]:\n",
    "                    if lt[prev]>k:\n",
    "                        tqt.append(prev)\n",
    "                        lt[prev]=lt[i]+1\n",
    "                        if (lt[prev]+ls[prev])<=k:\n",
    "                            critical_node.append(prev)\n",
    "            qt=tqt\n",
    "    for cn in critical_node:\n",
    "        backProp(Gr,ls,lt,k,cn,ans)\n",
    "        backProp(G,lt,ls,k,cn,ans)\n",
    "    ans+=critical_node\n",
    "    return ls,lt"
   ]
  },
  {
   "cell_type": "code",
   "execution_count": null,
   "metadata": {},
   "outputs": [],
   "source": [
    "subG1=[]\n",
    "bisearch(G,Gr,0,10,5,subG1)"
   ]
  },
  {
   "cell_type": "code",
   "execution_count": 60,
   "metadata": {},
   "outputs": [
    {
     "output_type": "execute_result",
     "data": {
      "text/plain": [
       "2"
      ]
     },
     "metadata": {},
     "execution_count": 60
    }
   ],
   "source": [
    "subG2=[]\n",
    "C_DFS(G,0,10,5,subG2)"
   ]
  },
  {
   "cell_type": "code",
   "execution_count": 25,
   "metadata": {
    "tags": []
   },
   "outputs": [],
   "source": [
    "subG3=[]\n",
    "BC_DFS(G,Gr,0,10,5,subG3)"
   ]
  },
  {
   "cell_type": "code",
   "execution_count": 29,
   "metadata": {},
   "outputs": [],
   "source": [
    "node1=subG\n",
    "node2=list(set(i for j in subG2 for i in j))\n",
    "node3=list(set(i for j in subG3 for i in j))"
   ]
  },
  {
   "cell_type": "code",
   "execution_count": 39,
   "metadata": {},
   "outputs": [
    {
     "output_type": "stream",
     "name": "stdout",
     "text": [
      "[0, 1, 3, 5, 7, 9, 10, 11, 12, 13, 14, 15, 16, 17, 18, 19]\n[0, 1, 2, 3, 4, 5, 6, 7, 8, 9, 10, 11, 12, 13, 14, 15, 16, 17, 18, 19]\n[0, 1, 2, 3, 4, 5, 6, 7, 8, 9, 10, 11, 12, 13, 14, 15, 16, 17, 18, 19]\n"
     ]
    }
   ],
   "source": [
    "print(sorted(subG))\n",
    "print(sorted(node2))\n",
    "print(sorted(node3))"
   ]
  },
  {
   "cell_type": "code",
   "execution_count": 42,
   "metadata": {},
   "outputs": [
    {
     "output_type": "execute_result",
     "data": {
      "text/plain": [
       "[0, 1, 2, 1, 2, 1, 2, 1, 2, 1, 2, 1, 2, 1, 2, 1, 2, 1, 2, 1]"
      ]
     },
     "metadata": {},
     "execution_count": 42
    }
   ],
   "source": [
    "ss"
   ]
  },
  {
   "cell_type": "code",
   "execution_count": 43,
   "metadata": {},
   "outputs": [
    {
     "output_type": "execute_result",
     "data": {
      "text/plain": [
       "[2, 1, 6, 1, 6, 1, 6, 1, 6, 1, 0, 1, 1, 1, 1, 1, 1, 1, 1, 1]"
      ]
     },
     "metadata": {},
     "execution_count": 43
    }
   ],
   "source": [
    "st"
   ]
  },
  {
   "cell_type": "code",
   "execution_count": null,
   "metadata": {},
   "outputs": [],
   "source": []
  },
  {
   "source": [
    "experiment"
   ],
   "cell_type": "markdown",
   "metadata": {}
  },
  {
   "cell_type": "code",
   "execution_count": 6,
   "metadata": {},
   "outputs": [
    {
     "output_type": "stream",
     "name": "stdout",
     "text": [
      "# Directed graph (each unordered pair of nodes is saved once): soc-LiveJournal1.txt \n\n# Directed LiveJournal friednship social network\n\n# Nodes: 4847571 Edges: 68993773\n\n# FromNodeId\tToNodeId\n\n"
     ]
    }
   ],
   "source": [
    "E=[]\n",
    "with open(\"soc-LiveJournal1.txt\",\"r\") as f:\n",
    "    print(f.readline())\n",
    "    print(f.readline())\n",
    "    print(f.readline())\n",
    "    print(f.readline())\n",
    "\n",
    "    for i in f.readlines():\n",
    "        E.append((int(i.split()[0]),int(i.split()[1])))\n",
    "        "
   ]
  },
  {
   "cell_type": "code",
   "execution_count": 8,
   "metadata": {},
   "outputs": [],
   "source": [
    "np.save(\"./edges.npy\",E)"
   ]
  },
  {
   "cell_type": "code",
   "execution_count": 11,
   "metadata": {},
   "outputs": [],
   "source": [
    "socLiveJounal=nx.DiGraph()\n",
    "socLiveJounal.add_edges_from(E)"
   ]
  },
  {
   "cell_type": "code",
   "execution_count": 12,
   "metadata": {},
   "outputs": [],
   "source": [
    "np.save(\"./socLiveJournal.npy\",socLiveJounal,allow_pickle=True)"
   ]
  },
  {
   "cell_type": "code",
   "execution_count": 13,
   "metadata": {},
   "outputs": [],
   "source": [
    "socLiveJounalr=socLiveJounal.reverse()"
   ]
  },
  {
   "cell_type": "code",
   "execution_count": 14,
   "metadata": {},
   "outputs": [],
   "source": [
    "np.save(\"./socLiveJournalr.npy\",socLiveJounalr,allow_pickle=True)"
   ]
  },
  {
   "cell_type": "code",
   "execution_count": 64,
   "metadata": {},
   "outputs": [
    {
     "output_type": "stream",
     "name": "stdout",
     "text": [
      "1184.616861820221\n"
     ]
    }
   ],
   "source": [
    "start=time.time()\n",
    "subG1=[]\n",
    "BC_DFS(socLiveJounal,socLiveJounalr,0,1000,5,subG1)\n",
    "end=time.time()\n",
    "print(end-start)"
   ]
  },
  {
   "cell_type": "code",
   "execution_count": 17,
   "metadata": {},
   "outputs": [
    {
     "output_type": "stream",
     "name": "stdout",
     "text": [
      "140.4079475402832\n"
     ]
    }
   ],
   "source": [
    "start=time.time()\n",
    "subG2=[]\n",
    "bisearch(socLiveJounal,socLiveJounalr,0,1000,5,subG2)\n",
    "end=time.time()\n",
    "print(end-start)"
   ]
  },
  {
   "cell_type": "code",
   "execution_count": 20,
   "metadata": {},
   "outputs": [
    {
     "output_type": "execute_result",
     "data": {
      "text/plain": [
       "3470"
      ]
     },
     "metadata": {},
     "execution_count": 20
    }
   ],
   "source": [
    "len(sorted(subG2))"
   ]
  },
  {
   "cell_type": "code",
   "execution_count": 21,
   "metadata": {},
   "outputs": [
    {
     "output_type": "execute_result",
     "data": {
      "text/plain": [
       "27658"
      ]
     },
     "metadata": {},
     "execution_count": 21
    }
   ],
   "source": [
    "len(sorted(subG1))"
   ]
  },
  {
   "cell_type": "code",
   "execution_count": 22,
   "metadata": {},
   "outputs": [
    {
     "output_type": "stream",
     "name": "stdout",
     "text": [
      "2538.1946880817413\n"
     ]
    }
   ],
   "source": [
    "start=time.time()\n",
    "subG3=[]\n",
    "C_DFS(socLiveJounal,0,1000,5,subG)\n",
    "end=time.time()\n",
    "print(end-start)"
   ]
  },
  {
   "cell_type": "code",
   "execution_count": 26,
   "metadata": {},
   "outputs": [
    {
     "output_type": "stream",
     "name": "stdout",
     "text": [
      "3.6808390617370605\n"
     ]
    }
   ],
   "source": [
    "start=time.time()\n",
    "subG4=[]\n",
    "bisearch_N(socLiveJounal,socLiveJounalr,0,1000,5,subG4)\n",
    "end=time.time()\n",
    "print(end-start)"
   ]
  },
  {
   "cell_type": "code",
   "execution_count": 72,
   "metadata": {},
   "outputs": [
    {
     "output_type": "stream",
     "name": "stdout",
     "text": [
      "4.5010271072387695\n"
     ]
    }
   ],
   "source": [
    "start=time.time()\n",
    "subG5=[]\n",
    "bisearch_S(socLiveJounal,socLiveJounalr,0,1000,5,subG5)\n",
    "end=time.time()\n",
    "print(end-start)"
   ]
  },
  {
   "cell_type": "code",
   "execution_count": 75,
   "metadata": {},
   "outputs": [
    {
     "output_type": "execute_result",
     "data": {
      "text/plain": [
       "3573"
      ]
     },
     "metadata": {},
     "execution_count": 75
    }
   ],
   "source": [
    "len(set(subG5))"
   ]
  },
  {
   "cell_type": "code",
   "execution_count": 74,
   "metadata": {},
   "outputs": [
    {
     "output_type": "execute_result",
     "data": {
      "text/plain": [
       "3573"
      ]
     },
     "metadata": {},
     "execution_count": 74
    }
   ],
   "source": [
    "len(subG5)"
   ]
  },
  {
   "cell_type": "code",
   "execution_count": 44,
   "metadata": {},
   "outputs": [
    {
     "output_type": "execute_result",
     "data": {
      "text/plain": [
       "3496"
      ]
     },
     "metadata": {},
     "execution_count": 44
    }
   ],
   "source": [
    "len(set(subG4))"
   ]
  },
  {
   "cell_type": "code",
   "execution_count": 31,
   "metadata": {},
   "outputs": [
    {
     "output_type": "execute_result",
     "data": {
      "text/plain": [
       "{'\\t', '\\n', '0', '4', '5', '7', '8'}"
      ]
     },
     "metadata": {},
     "execution_count": 31
    }
   ],
   "source": [
    "set([j for j in i for i in subG1])"
   ]
  },
  {
   "cell_type": "code",
   "execution_count": 40,
   "metadata": {},
   "outputs": [
    {
     "output_type": "execute_result",
     "data": {
      "text/plain": [
       "3435"
      ]
     },
     "metadata": {},
     "execution_count": 40
    }
   ],
   "source": [
    "len(set([i[j] for j in range(2) for i in subG1]))"
   ]
  },
  {
   "cell_type": "code",
   "execution_count": 43,
   "metadata": {},
   "outputs": [
    {
     "output_type": "execute_result",
     "data": {
      "text/plain": [
       "3451"
      ]
     },
     "metadata": {},
     "execution_count": 43
    }
   ],
   "source": [
    "len(set([i[j] for j in range(2) for i in subG3]))"
   ]
  },
  {
   "cell_type": "code",
   "execution_count": 52,
   "metadata": {
    "tags": []
   },
   "outputs": [],
   "source": [
    "g4=set(subG4)\n",
    "g3=set([i[j] for j in range(2) for i in subG3])\n",
    "g1=set([i[j] for j in range(2) for i in subG1])"
   ]
  },
  {
   "cell_type": "code",
   "execution_count": 62,
   "metadata": {},
   "outputs": [
    {
     "output_type": "stream",
     "name": "stdout",
     "text": [
      "{1215072, 244736, 362693, 1088070, 33447, 134281, 728873, 132939, 43403, 550029, 362701, 149074, 135315, 285301, 33370, 709467}\n"
     ]
    }
   ],
   "source": [
    "g=g3.difference(g1)\n",
    "print(g)"
   ]
  },
  {
   "cell_type": "code",
   "execution_count": 56,
   "metadata": {},
   "outputs": [
    {
     "output_type": "execute_result",
     "data": {
      "text/plain": [
       "0"
      ]
     },
     "metadata": {},
     "execution_count": 56
    }
   ],
   "source": [
    "len(g1.difference(g3))"
   ]
  },
  {
   "cell_type": "code",
   "execution_count": 51,
   "metadata": {},
   "outputs": [],
   "source": [
    "g1=set(subG1)"
   ]
  },
  {
   "cell_type": "code",
   "execution_count": null,
   "metadata": {},
   "outputs": [],
   "source": []
  }
 ]
}