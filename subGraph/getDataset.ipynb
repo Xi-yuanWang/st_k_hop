{
 "metadata": {
  "language_info": {
   "codemirror_mode": {
    "name": "ipython",
    "version": 3
   },
   "file_extension": ".py",
   "mimetype": "text/x-python",
   "name": "python",
   "nbconvert_exporter": "python",
   "pygments_lexer": "ipython3",
   "version": "3.8.6"
  },
  "orig_nbformat": 2,
  "kernelspec": {
   "name": "python38664bittorchgeoconda6f756dd914a64c5bbfcc12322cd6a319",
   "display_name": "Python 3.8.6 64-bit ('torch_geo': conda)",
   "language": "python"
  }
 },
 "nbformat": 4,
 "nbformat_minor": 2,
 "cells": [
  {
   "cell_type": "code",
   "execution_count": 3,
   "metadata": {},
   "outputs": [],
   "source": [
    "import snap"
   ]
  },
  {
   "cell_type": "code",
   "execution_count": 13,
   "metadata": {},
   "outputs": [],
   "source": [
    "for name in [\"amazon0601\",\"soc-Epinions1\",\"web-Google\"]:\n",
    "    G1 = snap.LoadEdgeList(snap.TNGraph, \"./data/{}.txt\".format(name), 0, 1)\n",
    "    G2=snap.TNGraph()\n",
    "    old2new={}\n",
    "    for i,n in enumerate(G1.Nodes()):\n",
    "        old2new[n.GetId()]=i\n",
    "        G2.AddNode(i)\n",
    "    for e in G1.Edges():\n",
    "        G2.AddEdge(old2new[e.GetSrcNId()],old2new[e.GetDstNId()])\n",
    "    FOut = snap.TFOut(\"./data/{}.graph\".format(name))\n",
    "    G2.Save(FOut)"
   ]
  },
  {
   "cell_type": "code",
   "execution_count": 4,
   "metadata": {},
   "outputs": [],
   "source": [
    "G1 = snap.LoadEdgeList(snap.TNGraph, \"./data/{}.txt\".format(\"web-Google\"), 0, 1)"
   ]
  },
  {
   "cell_type": "code",
   "execution_count": 5,
   "metadata": {},
   "outputs": [
    {
     "output_type": "stream",
     "name": "stdout",
     "text": [
      "403394\n",
      "75879\n",
      "875713\n"
     ]
    }
   ],
   "source": [
    "for name in [\"amazon0601\",\"soc-Epinions1\",\"web-Google\"]:\n",
    "    G1 = snap.LoadEdgeList(snap.TNGraph, \"./data/{}.txt\".format(name), 0, 1)\n",
    "    print(G1.GetNodes())\n",
    "    "
   ]
  }
 ]
}